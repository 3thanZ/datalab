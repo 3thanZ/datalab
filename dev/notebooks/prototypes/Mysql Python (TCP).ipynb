{
 "cells": [
  {
   "cell_type": "markdown",
   "metadata": {},
   "source": [
    "This notebook shows how you can query Cloud SQL and have the result available in a DataFrame.\n",
    "\n",
    "You can start the proxy from Bash (with [this script](./Cloud%20SQL%20Proxy%20%28Command%20Line%29.ipynb)), or from Python. (see below)"
   ]
  },
  {
   "cell_type": "markdown",
   "metadata": {},
   "source": [
    "Run ps to see if cloud_sql_proxy is running."
   ]
  },
  {
   "cell_type": "code",
   "execution_count": 1,
   "metadata": {
    "collapsed": false
   },
   "outputs": [
    {
     "name": "stdout",
     "output_type": "stream",
     "text": [
      "UID        PID  PPID  C STIME TTY          TIME CMD\n",
      "root      1060    67  0 23:05 ?        00:00:06 /usr/bin/python -m ipykernel -f /root/.local/share/jupyter/runtime/kernel-abdfb292-efe5-42db-aaf2-6215ccb8e6a6.json\n",
      "root      1368    67  0 23:06 ?        00:00:07 /usr/bin/python -m ipykernel -f /root/.local/share/jupyter/runtime/kernel-4a53b4f4-dc40-4630-ab95-fcf90e4f8cec.json\n",
      "root      1606    67  0 23:28 ?        00:00:05 /usr/bin/python -m ipykernel -f /root/.local/share/jupyter/runtime/kernel-1c1aa837-846f-4af2-bf6d-ce8897af5f22.json\n",
      "root      1830    67  1 23:33 ?        00:00:06 /usr/bin/python -m ipykernel -f /root/.local/share/jupyter/runtime/kernel-fd7764c8-4b17-429c-9264-23b25803f864.json\n",
      "root      1914    67  1 23:34 ?        00:00:06 /usr/bin/python -m ipykernel -f /root/.local/share/jupyter/runtime/kernel-67457076-7b92-4207-a24e-99a80d8acb96.json\n",
      "root      2058    67  1 23:36 ?        00:00:06 /usr/bin/python -m ipykernel -f /root/.local/share/jupyter/runtime/kernel-aa2ad3d5-a74a-487f-a892-89666a60850b.json\n",
      "root      2138    67  1 23:36 ?        00:00:06 /usr/bin/python -m ipykernel -f /root/.local/share/jupyter/runtime/kernel-09aed761-1dfa-42ff-8ac3-64affc578a7d.json\n",
      "root      2282  1830  0 23:43 ?        00:00:00 bash\n",
      "root      2283  2282  0 23:43 ?        00:00:00 ps -f\n"
     ]
    }
   ],
   "source": [
    "%%bash\n",
    "ps -f"
   ]
  },
  {
   "cell_type": "code",
   "execution_count": 2,
   "metadata": {
    "collapsed": false
   },
   "outputs": [],
   "source": [
    "%%bash\n",
    "pgrep cloud_sql_proxy"
   ]
  },
  {
   "cell_type": "markdown",
   "metadata": {},
   "source": [
    "If the proxy is started with bash, it locks input on that notebook. So we run kill here to stop it, if needed."
   ]
  },
  {
   "cell_type": "code",
   "execution_count": 85,
   "metadata": {
    "collapsed": true
   },
   "outputs": [],
   "source": [
    "%%bash\n",
    "kill -9 880"
   ]
  },
  {
   "cell_type": "markdown",
   "metadata": {},
   "source": [
    "## Python code to start a cloud sql proxy."
   ]
  },
  {
   "cell_type": "markdown",
   "metadata": {},
   "source": [
    "It seems there is an oauthclient go bug, so run the following command as a workaround."
   ]
  },
  {
   "cell_type": "code",
   "execution_count": 3,
   "metadata": {
    "collapsed": true
   },
   "outputs": [],
   "source": [
    "!cp /content/datalab/.config/application_default_credentials.json ~/.config/gcloud/"
   ]
  },
  {
   "cell_type": "code",
   "execution_count": 4,
   "metadata": {
    "collapsed": true
   },
   "outputs": [],
   "source": [
    "import subprocess"
   ]
  },
  {
   "cell_type": "code",
   "execution_count": 11,
   "metadata": {
    "collapsed": false
   },
   "outputs": [],
   "source": [
    "class Connection(object):\n",
    "  def __init__(self, instance_name, port, process):\n",
    "    self._instance_name = instance_name\n",
    "    self._port = port\n",
    "    self._pid = process.pid\n",
    "    self._process = process\n",
    "    \n",
    "  def __repr__(self):\n",
    "    return \"Name:{}, Port:{}, pid:{}, returncode:{}\".format(\n",
    "    self._instance_name, self._port, self._pid, self._process.returncode)\n",
    "  \n",
    "  def get_port(self):\n",
    "    return self._port\n",
    "\n",
    "# The collections \"library\". Currently an object.\n",
    "# TODO(oemilyo): Make this into a proper library.\n",
    "import UserDict\n",
    "\n",
    "class Connections(UserDict.IterableUserDict):\n",
    "\n",
    "  class Error(Exception):\n",
    "    \"\"\"Base class for exceptions in this module.\"\"\"\n",
    "    pass\n",
    "  \n",
    "  class ConnectionAlreadyExisted(Error):\n",
    "    \"\"\"Raised when a connection already exist for an instance.\"\"\"\n",
    "    def __init__(self, instance_name, port):\n",
    "      super(ConnectionAlreadyExisted, self).__init__(\n",
    "        \"Connection already existed for {} at {}\".format(instance_name, port))\n",
    "        \n",
    "  # TODO(oemilyo): A way to close connections.\n",
    "  \n",
    "  def get_or_create_port_for_instance(self, instance_name):\n",
    "    if instance_name not in self.data:\n",
    "      self.create_connection(instance_name)\n",
    "    return self.data[instance_name].get_port()\n",
    "  \n",
    "  def get_port_for_instance(self, instance_name):\n",
    "    \"\"\"Returns port for instance, or None if no connection exists.\"\"\"\n",
    "    if instance_name not in self.data:\n",
    "      return None\n",
    "    # TODO(oemilyo): Check if the port is usable?\n",
    "    return self.data[instance_name].get_port()\n",
    "\n",
    "  def create_connection(self, instance_name, port=None):\n",
    "    chosen_port = port or 3307  # we have to figure out the next available port\n",
    "    if instance_name in self.data:\n",
    "      raise ConnectionAlreadyExisted(instance_name, self.data[instance_name])\n",
    "    else:\n",
    "      # Run the proxy in the background.\n",
    "      # For windows, use creationflags=CREATE_NEW_CONSOLE(0x00000010)\n",
    "      # pid = subprocess.Popen([\"../../cloud_sql_proxy -instances=datalab-deploy-test1:us-central1:cloudsql=tcp:3307\"],\n",
    "      #                        creationflags=CREATE_NEW_CONSOLE).pid\n",
    "      # If we want the process to keep running when this python process is dead (when?), \n",
    "      # then give it its own STDIN/STDOUT: stdout=subprocess.PIPE, stderr=subprocess.PIPE, stdin=subprocess.PIPE\n",
    "      print \"Starting a new process\"\n",
    "      process = subprocess.Popen([\n",
    "        \"/content/cloud_sql_proxy\", \n",
    "        \"-instances={}=tcp:{}\".format(instance_name, chosen_port)])\n",
    "      # TODO(oemilyo): Handle errors!\n",
    "      # TODO(oemilyo): It seems if the user hasn't signed in (aka no cloud credentials),\n",
    "      # the process dies and becomes <defunct> (zombie) without setting a returncode.\n",
    "      # Figure out how to handle that.\n",
    "      self.data[instance_name] = Connection(instance_name, chosen_port, process)\n",
    "      \n",
    "  def remove_connection(self, instance_name):\n",
    "    \"\"\"Cleans the connection map.\"\"\"\n",
    "    # Doesn't kill the process.\n",
    "    # TODO(oemilyo): Something to kill the process as well.\n",
    "    try: \n",
    "      del self.data[instance_name]\n",
    "    except KeyError:\n",
    "      pass"
   ]
  },
  {
   "cell_type": "code",
   "execution_count": 12,
   "metadata": {
    "collapsed": true
   },
   "outputs": [],
   "source": [
    "connections = Connections()  # This needs to be a global singleton."
   ]
  },
  {
   "cell_type": "markdown",
   "metadata": {},
   "source": [
    "## Start/ connect to the proxy."
   ]
  },
  {
   "cell_type": "markdown",
   "metadata": {},
   "source": [
    "Cannot use mysql client because it is not installed."
   ]
  },
  {
   "cell_type": "code",
   "execution_count": 2,
   "metadata": {
    "collapsed": false
   },
   "outputs": [
    {
     "name": "stderr",
     "output_type": "stream",
     "text": [
      "bash: line 1: mysql: command not found\n"
     ]
    }
   ],
   "source": [
    "%%bash\n",
    "mysql"
   ]
  },
  {
   "cell_type": "markdown",
   "metadata": {},
   "source": [
    "Run the following to use Python to start a proxy."
   ]
  },
  {
   "cell_type": "code",
   "execution_count": 7,
   "metadata": {
    "collapsed": true
   },
   "outputs": [],
   "source": [
    "instance_name = \"datalab-deploy-test1:us-central1:cloudsql\"  # provided by user\n",
    "input_args = {\n",
    "  'instance_name': instance_name,  # User will give us the name\n",
    "  'db': 'test_db',\n",
    "  'user': 'root'\n",
    "}"
   ]
  },
  {
   "cell_type": "code",
   "execution_count": 15,
   "metadata": {
    "collapsed": false
   },
   "outputs": [
    {
     "name": "stdout",
     "output_type": "stream",
     "text": [
      "['2290', '']\n"
     ]
    }
   ],
   "source": [
    "# Check if other cloud_sql_proxy are running.\n",
    "# Unfortunately, we don't know what databases those are connecting to.\n",
    "cloud_proxies_pid = subprocess.check_output([\"pgrep\", \"cloud_sql_proxy\"])\n",
    "print cloud_proxies_pid.split('\\n')"
   ]
  },
  {
   "cell_type": "code",
   "execution_count": 14,
   "metadata": {
    "collapsed": false
   },
   "outputs": [
    {
     "name": "stdout",
     "output_type": "stream",
     "text": [
      "3307\n",
      "{'datalab-deploy-test1:us-central1:cloudsql': Name:datalab-deploy-test1:us-central1:cloudsql, Port:3307, pid:2290, returncode:None}\n"
     ]
    }
   ],
   "source": [
    "# Checks the port.\n",
    "print connections.get_port_for_instance(input_args['instance_name'])\n",
    "print connections"
   ]
  },
  {
   "cell_type": "code",
   "execution_count": 56,
   "metadata": {
    "collapsed": false
   },
   "outputs": [],
   "source": [
    "# If for some reason the existing cxn is bad, remove it and start anew.\n",
    "connections.remove_connection(input_args['instance_name'])"
   ]
  },
  {
   "cell_type": "code",
   "execution_count": 13,
   "metadata": {
    "collapsed": false
   },
   "outputs": [
    {
     "name": "stdout",
     "output_type": "stream",
     "text": [
      "Starting a new process\n"
     ]
    }
   ],
   "source": [
    "# Run this if using Python-started proxies.\n",
    "port = connections.get_or_create_port_for_instance(input_args['instance_name'])"
   ]
  },
  {
   "cell_type": "code",
   "execution_count": null,
   "metadata": {
    "collapsed": true
   },
   "outputs": [],
   "source": [
    "# Otherwise, run this if proxy is started via bash with the chosen port.\n",
    "port = 3307"
   ]
  },
  {
   "cell_type": "code",
   "execution_count": 21,
   "metadata": {
    "collapsed": false
   },
   "outputs": [],
   "source": [
    "import MySQLdb\n",
    "import MySQLdb.cursors"
   ]
  },
  {
   "cell_type": "code",
   "execution_count": 22,
   "metadata": {
    "collapsed": false
   },
   "outputs": [],
   "source": [
    "# TODO: Handle error, e.g. OperationalError == cannot connect.\n",
    "db = MySQLdb.connect(\n",
    "  host='127.0.0.1', port=port, db=input_args['db'], user=input_args['user'], \n",
    "  charset='utf8', cursorclass=MySQLdb.cursors.SSDictCursor)"
   ]
  },
  {
   "cell_type": "code",
   "execution_count": 91,
   "metadata": {
    "collapsed": false
   },
   "outputs": [
    {
     "ename": "ImportError",
     "evalue": "No module named mysql",
     "output_type": "error",
     "traceback": [
      "\u001b[0;31m\u001b[0m",
      "\u001b[0;31mImportError\u001b[0mTraceback (most recent call last)",
      "\u001b[0;32m<ipython-input-91-1e74845e5e06>\u001b[0m in \u001b[0;36m<module>\u001b[0;34m()\u001b[0m\n\u001b[1;32m      1\u001b[0m \u001b[0;31m# We could also connect with Connector/Python\u001b[0m\u001b[0;34m\u001b[0m\u001b[0;34m\u001b[0m\u001b[0m\n\u001b[0;32m----> 2\u001b[0;31m \u001b[0;32mimport\u001b[0m \u001b[0mmysql\u001b[0m\u001b[0;34m\u001b[0m\u001b[0m\n\u001b[0m\u001b[1;32m      3\u001b[0m \u001b[0mcnx\u001b[0m \u001b[0;34m=\u001b[0m \u001b[0mmysql\u001b[0m\u001b[0;34m.\u001b[0m\u001b[0mconnector\u001b[0m\u001b[0;34m.\u001b[0m\u001b[0mconnect\u001b[0m\u001b[0;34m(\u001b[0m\u001b[0mhost\u001b[0m\u001b[0;34m=\u001b[0m\u001b[0;34m'127.0.0.1'\u001b[0m\u001b[0;34m,\u001b[0m \u001b[0mport\u001b[0m\u001b[0;34m=\u001b[0m\u001b[0mport\u001b[0m\u001b[0;34m,\u001b[0m \u001b[0mdb\u001b[0m\u001b[0;34m=\u001b[0m\u001b[0minput_args\u001b[0m\u001b[0;34m[\u001b[0m\u001b[0;34m'db'\u001b[0m\u001b[0;34m]\u001b[0m\u001b[0;34m,\u001b[0m \u001b[0muser\u001b[0m\u001b[0;34m=\u001b[0m\u001b[0minput_args\u001b[0m\u001b[0;34m[\u001b[0m\u001b[0;34m'user'\u001b[0m\u001b[0;34m]\u001b[0m\u001b[0;34m,\u001b[0m \u001b[0mcharset\u001b[0m\u001b[0;34m=\u001b[0m\u001b[0;34m'utf8'\u001b[0m\u001b[0;34m)\u001b[0m\u001b[0;34m\u001b[0m\u001b[0m\n",
      "\u001b[0;31mImportError\u001b[0m: No module named mysql"
     ]
    }
   ],
   "source": [
    "# We could also connect with Connector/Python\n",
    "# TODO: Doesn't work currently.\n",
    "import mysql.connector\n",
    "cnx = mysql.connector.connect(host='127.0.0.1', port=port, db=input_args['db'], user=input_args['user'], charset='utf8')"
   ]
  },
  {
   "cell_type": "markdown",
   "metadata": {},
   "source": [
    "## Try to access the Cloud SQL tables."
   ]
  },
  {
   "cell_type": "code",
   "execution_count": 23,
   "metadata": {
    "collapsed": true
   },
   "outputs": [],
   "source": [
    "user_query = \"Select * from foobar\""
   ]
  },
  {
   "cell_type": "code",
   "execution_count": 24,
   "metadata": {
    "collapsed": false
   },
   "outputs": [
    {
     "name": "stdout",
     "output_type": "stream",
     "text": [
      "({'id': 1L, 'value': 3L}, {'id': 2L, 'value': 7L})\n"
     ]
    }
   ],
   "source": [
    "# Do some queries with a mysqlDB cursor.\n",
    "c = db.cursor()\n",
    "c.execute(user_query)\n",
    "result = c.fetchall()\n",
    "c.close()\n",
    "\n",
    "print result"
   ]
  },
  {
   "cell_type": "code",
   "execution_count": null,
   "metadata": {
    "collapsed": true
   },
   "outputs": [],
   "source": [
    "# Do some query with connector cursor.\n",
    "# TODO: Doesn't work.\n",
    "cursor = cnx.cursor()\n",
    "\n",
    "cursor.execute(query)\n",
    "\n",
    "print cursor\n",
    "\n",
    "cursor.close()"
   ]
  },
  {
   "cell_type": "markdown",
   "metadata": {},
   "source": [
    "## Wrap the query result in a DataFrame."
   ]
  },
  {
   "cell_type": "code",
   "execution_count": 25,
   "metadata": {
    "collapsed": true
   },
   "outputs": [],
   "source": [
    "import pandas"
   ]
  },
  {
   "cell_type": "code",
   "execution_count": 27,
   "metadata": {
    "collapsed": false
   },
   "outputs": [
    {
     "name": "stdout",
     "output_type": "stream",
     "text": [
      "   id  value\n",
      "0   1      3\n",
      "1   2      7\n"
     ]
    }
   ],
   "source": [
    "results_dataframe = None\n",
    "\n",
    "if results_dataframe is None: \n",
    "  # I forgot why I added this check...\n",
    "  results_dataframe = pandas.DataFrame(list(result))\n",
    "\n",
    "print results_dataframe"
   ]
  },
  {
   "cell_type": "markdown",
   "metadata": {},
   "source": [
    "## If the connection was made with the Connector library, close it."
   ]
  },
  {
   "cell_type": "code",
   "execution_count": null,
   "metadata": {
    "collapsed": true
   },
   "outputs": [],
   "source": [
    "# Close the connector connection.\n",
    "cnx.close()"
   ]
  },
  {
   "cell_type": "markdown",
   "metadata": {},
   "source": [
    "## Debug stuffs."
   ]
  },
  {
   "cell_type": "code",
   "execution_count": 52,
   "metadata": {
    "collapsed": false
   },
   "outputs": [
    {
     "data": {
      "text/plain": [
       "<oauth2client.client.GoogleCredentials at 0x7fc2b5283fd0>"
      ]
     },
     "execution_count": 52,
     "metadata": {},
     "output_type": "execute_result"
    }
   ],
   "source": [
    "import datalab\n",
    "datalab.context.Context.default().credentials\n"
   ]
  }
 ],
 "metadata": {
  "kernelspec": {
   "display_name": "Python 2",
   "language": "python",
   "name": "python2"
  },
  "language_info": {
   "codemirror_mode": {
    "name": "ipython",
    "version": 2
   },
   "file_extension": ".py",
   "mimetype": "text/x-python",
   "name": "python",
   "nbconvert_exporter": "python",
   "pygments_lexer": "ipython2",
   "version": "2.7.9"
  }
 },
 "nbformat": 4,
 "nbformat_minor": 1
}
