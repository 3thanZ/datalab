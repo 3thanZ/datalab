{
 "cells": [
  {
   "cell_type": "markdown",
   "metadata": {},
   "source": [
    "This notebook shows how you can start the Cloud SQL Proxy needed to connect to Cloud SQL from command line.\n",
    "\n",
    "Cloud SQL instance name is: datalab-deploy-test1:us-central1:cloudsql\n",
    "\n",
    "10/10/2016: There are multiple cloud sql proxy installed:\n",
    "\n",
    "1. /content/datalab/Local Notebooks/cloud_sql_proxy\n",
    "2. /content/cloud_sql_proxy\n",
    "\n",
    "This notebook uses /content/cloud_sql_proxy. Both work."
   ]
  },
  {
   "cell_type": "code",
   "execution_count": 1,
   "metadata": {
    "collapsed": false
   },
   "outputs": [
    {
     "name": "stdout",
     "output_type": "stream",
     "text": [
      "/content/new_datalab/datalab/dev/notebooks/prototypes\n"
     ]
    }
   ],
   "source": [
    "%%bash\n",
    "pwd"
   ]
  },
  {
   "cell_type": "markdown",
   "metadata": {},
   "source": [
    "It seems there is an oauthclient go bug which prevents credentials to be properly read, so run the following command as a workaround."
   ]
  },
  {
   "cell_type": "code",
   "execution_count": 29,
   "metadata": {
    "collapsed": true
   },
   "outputs": [],
   "source": [
    "!cp /content/datalab/.config/application_default_credentials.json ~/.config/gcloud/"
   ]
  },
  {
   "cell_type": "markdown",
   "metadata": {},
   "source": [
    "List locations of cloud_sql_proxy."
   ]
  },
  {
   "cell_type": "code",
   "execution_count": 2,
   "metadata": {
    "collapsed": false
   },
   "outputs": [
    {
     "name": "stdout",
     "output_type": "stream",
     "text": [
      "-rwxr-x--- 1 114317 5000 11M May  4  2016 /content/cloud_sql_proxy\n",
      "-rwxr-xr-x 1 root   root 11M May  4  2016 /content/datalab/Local Notebooks/cloud_sql_proxy\n"
     ]
    }
   ],
   "source": [
    "%%bash\n",
    "find /content/ -name \"cloud_sql_proxy\" -exec ls -lah {} +"
   ]
  },
  {
   "cell_type": "markdown",
   "metadata": {},
   "source": [
    "Connect to Cloud SQL via TCP (no credentials needed):"
   ]
  },
  {
   "cell_type": "code",
   "execution_count": 8,
   "metadata": {
    "collapsed": false
   },
   "outputs": [
    {
     "name": "stderr",
     "output_type": "stream",
     "text": [
      "2016/10/14 21:08:12 Listening on 127.0.0.1:3308 for datalab-deploy-test1:us-central1:cloudsql\n",
      "2016/10/14 21:08:12 Ready for new connections\n"
     ]
    }
   ],
   "source": [
    "%%bash\n",
    "/content/cloud_sql_proxy -instances=datalab-deploy-test1:us-central1:cloudsql=tcp:3308 &"
   ]
  },
  {
   "cell_type": "code",
   "execution_count": 10,
   "metadata": {
    "collapsed": false
   },
   "outputs": [
    {
     "name": "stdout",
     "output_type": "stream",
     "text": [
      "  PID TTY          TIME CMD\n",
      "   94 ?        00:00:13 python\n",
      "  200 ?        00:00:08 python\n",
      "  280 ?        00:00:06 python\n",
      "  358 ?        00:00:07 python\n",
      "  448 ?        00:00:07 python\n",
      "  600 ?        00:00:07 python\n",
      "  706 ?        00:00:00 pwd <defunct>\n",
      "  874 ?        00:00:00 cloud_sql_proxy <defunct>\n",
      "  880 ?        00:00:00 cloud_sql_proxy <defunct>\n",
      "  915 ?        00:00:00 bash\n",
      "  916 ?        00:00:00 ps\n"
     ]
    }
   ],
   "source": [
    "%%bash\n",
    "ps"
   ]
  },
  {
   "cell_type": "markdown",
   "metadata": {},
   "source": [
    "Connect to Cloud SQL via UNIX:"
   ]
  },
  {
   "cell_type": "code",
   "execution_count": 16,
   "metadata": {
    "collapsed": false
   },
   "outputs": [
    {
     "name": "stderr",
     "output_type": "stream",
     "text": [
      "bash: line 1: sudo: command not found\n",
      "chmod: cannot access '/cloudsql': No such file or directory\n"
     ]
    }
   ],
   "source": [
    "%%bash\n",
    "sudo mkdir /cloudsql; chmod 777 /cloudsql"
   ]
  },
  {
   "cell_type": "code",
   "execution_count": null,
   "metadata": {
    "collapsed": true
   },
   "outputs": [],
   "source": [
    "%%bash\n",
    "/content/cloud_sql_proxy -dir=/cloudsql -instances=datalab-deploy-test1:us-central1:cloudsql -credential_file=/content/datalab/.config/credentials "
   ]
  },
  {
   "cell_type": "code",
   "execution_count": 3,
   "metadata": {
    "collapsed": false
   },
   "outputs": [
    {
     "name": "stdout",
     "output_type": "stream",
     "text": [
      "avro==1.8.1\r\n",
      "backports-abc==0.4\r\n",
      "backports.shutil-get-terminal-size==1.0.0\r\n",
      "backports.ssl-match-hostname==3.5.0.1\r\n",
      "beautifulsoup4==4.5.1\r\n",
      "brewer2mpl==1.4.1\r\n",
      "bs4==0.0.1\r\n",
      "certifi==2016.9.26\r\n",
      "cloudml==0.1.6a0\r\n",
      "configparser==3.5.0\r\n",
      "crcmod==1.7\r\n",
      "cycler==0.10.0\r\n",
      "datalab==0.1.1610102346\r\n",
      "decorator==4.0.10\r\n",
      "dill==0.2.5\r\n",
      "dpkt==1.8.8\r\n",
      "entrypoints==0.2.2\r\n",
      "enum34==1.1.6\r\n",
      "funcsigs==1.0.2\r\n",
      "functools32==3.2.3.post2\r\n",
      "future==0.15.2\r\n",
      "futures==3.0.5\r\n",
      "gapic-google-logging-v2==0.9.3\r\n",
      "gapic-google-pubsub-v1==0.9.3\r\n",
      "ggplot==0.6.8\r\n",
      "google-api-python-client==1.5.1\r\n",
      "google-apitools==0.5.4\r\n",
      "google-cloud==0.19.0\r\n",
      "google-cloud-dataflow==0.4.2\r\n",
      "google-gax==0.13.0\r\n",
      "googleapis-common-protos==1.3.5\r\n",
      "grpc-google-logging-v2==0.9.3\r\n",
      "grpc-google-pubsub-v1==0.9.3\r\n",
      "grpcio==1.0.0\r\n",
      "httplib2==0.9.2\r\n",
      "ipykernel==4.4.1\r\n",
      "ipython==5.1.0\r\n",
      "ipython-genutils==0.1.0\r\n",
      "ipywidgets==5.0.0\r\n",
      "Jinja2==2.8\r\n",
      "jsonschema==2.5.1\r\n",
      "jupyter-client==4.4.0\r\n",
      "jupyter-core==4.2.0\r\n",
      "MarkupSafe==0.23\r\n",
      "matplotlib==1.5.3\r\n",
      "mistune==0.7.3\r\n",
      "mock==2.0.0\r\n",
      "MySQL-python==1.2.3\r\n",
      "nb2kg==0.0.1.dev0\r\n",
      "nbconvert==4.2.0\r\n",
      "nbformat==4.1.0\r\n",
      "nltk==3.2.1\r\n",
      "notebook==4.2.3\r\n",
      "numpy==1.11.2\r\n",
      "oauth2client==2.0.2\r\n",
      "pandas==0.19.0\r\n",
      "pandas-profiling==1.3.0\r\n",
      "pandocfilters==1.3.0\r\n",
      "pathlib2==2.1.0\r\n",
      "patsy==0.4.1\r\n",
      "pbr==1.10.0\r\n",
      "pexpect==4.2.1\r\n",
      "pickleshare==0.7.4\r\n",
      "Pillow==3.4.1\r\n",
      "plotly==1.12.5\r\n",
      "ply==3.8\r\n",
      "prompt-toolkit==1.0.7\r\n",
      "protobuf==3.0.0\r\n",
      "protorpc==0.11.1\r\n",
      "psutil==4.3.0\r\n",
      "ptyprocess==0.5.1\r\n",
      "pyasn1==0.1.9\r\n",
      "pyasn1-modules==0.0.8\r\n",
      "Pygments==2.1.3\r\n",
      "pyparsing==2.1.10\r\n",
      "python-dateutil==2.5.0\r\n",
      "python-gflags==3.0.7\r\n",
      "pytz==2016.7\r\n",
      "PyYAML==3.11\r\n",
      "pyzmq==15.4.0\r\n",
      "requests==2.9.1\r\n",
      "rsa==3.4.2\r\n",
      "scikit-learn==0.17.1\r\n",
      "scipy==0.18.0\r\n",
      "seaborn==0.7.0\r\n",
      "simplegeneric==0.8.1\r\n",
      "simplejson==3.8.2\r\n",
      "singledispatch==3.4.0.3\r\n",
      "six==1.10.0\r\n",
      "statsmodels==0.6.1\r\n",
      "sympy==0.7.6.1\r\n",
      "tensorflow==0.11.0rc0\r\n",
      "terminado==0.6\r\n",
      "tornado==4.4.2\r\n",
      "traitlets==4.3.1\r\n",
      "uritemplate==0.6\r\n",
      "wcwidth==0.1.7\r\n",
      "widgetsnbextension==1.2.6\r\n"
     ]
    }
   ],
   "source": [
    "!pip freeze"
   ]
  },
  {
   "cell_type": "code",
   "execution_count": 5,
   "metadata": {
    "collapsed": false
   },
   "outputs": [
    {
     "name": "stdout",
     "output_type": "stream",
     "text": [
      "Reading package lists... Done\n",
      "Building dependency tree       \n",
      "Reading state information... Done\n",
      "The following NEW packages will be installed:\n",
      "  libmysqlclient-dev\n",
      "0 upgraded, 1 newly installed, 0 to remove and 16 not upgraded.\n",
      "Need to get 952 kB of archives.\n",
      "After this operation, 5659 kB of additional disk space will be used.\n",
      "Get:1 http://security.debian.org/ jessie/updates/main libmysqlclient-dev amd64 5.5.52-0+deb8u1 [952 kB]\n",
      "Fetched 952 kB in 0s (4860 kB/s)\n",
      "debconf: delaying package configuration, since apt-utils is not installed\n",
      "Selecting previously unselected package libmysqlclient-dev.\n",
      "(Reading database ... 18147 files and directories currently installed.)\n",
      "Preparing to unpack .../libmysqlclient-dev_5.5.52-0+deb8u1_amd64.deb ...\n",
      "Unpacking libmysqlclient-dev (5.5.52-0+deb8u1) ...\n",
      "Setting up libmysqlclient-dev (5.5.52-0+deb8u1) ...\n"
     ]
    }
   ],
   "source": [
    "!apt-get install libmysqlclient-dev"
   ]
  }
 ],
 "metadata": {
  "kernelspec": {
   "display_name": "Python 2",
   "language": "python",
   "name": "python2"
  },
  "language_info": {
   "codemirror_mode": {
    "name": "ipython",
    "version": 2
   },
   "file_extension": ".py",
   "mimetype": "text/x-python",
   "name": "python",
   "nbconvert_exporter": "python",
   "pygments_lexer": "ipython2",
   "version": "2.7.9"
  }
 },
 "nbformat": 4,
 "nbformat_minor": 1
}
